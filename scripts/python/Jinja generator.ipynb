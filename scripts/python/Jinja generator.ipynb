{
 "cells": [
  {
   "cell_type": "markdown",
   "id": "b205ffe6-5a95-4613-82a4-663233054582",
   "metadata": {},
   "source": [
    "# Jinja Generator\n",
    "Generate the homepage with Jinja."
   ]
  },
  {
   "cell_type": "code",
   "execution_count": null,
   "id": "078248a3-b9ac-4153-a709-3b611b9e9a2b",
   "metadata": {},
   "outputs": [],
   "source": [
    "recordings = [\n",
    "    {\"link\": }\n",
    "]"
   ]
  },
  {
   "cell_type": "code",
   "execution_count": 1,
   "id": "ad5187aa-d773-4c52-bdb2-41a51f6c6209",
   "metadata": {},
   "outputs": [],
   "source": [
    "from glob import glob"
   ]
  },
  {
   "cell_type": "code",
   "execution_count": 24,
   "id": "4792b3e5-a198-42d5-a6ff-d61d4fd0d7a6",
   "metadata": {},
   "outputs": [],
   "source": [
    "recordings = [\n",
    "    {'link': a, 'caption': a.lstrip('audio/')}\n",
    "    for a in \n",
    "    ['/'.join(item.split('/')[6:]) for item in sorted(glob('/Users/a80323573/Documents/Fun/dro248.github.io/audio/*.mp3'))]\n",
    "]"
   ]
  },
  {
   "cell_type": "code",
   "execution_count": 25,
   "id": "b2ee0be7-5437-4aa3-ad26-0f472e8ac7f9",
   "metadata": {},
   "outputs": [],
   "source": [
    "from jinja2 import Environment, FileSystemLoader"
   ]
  },
  {
   "cell_type": "code",
   "execution_count": 28,
   "id": "a1064c43-cbcc-442f-bee1-1db477e106d7",
   "metadata": {},
   "outputs": [],
   "source": [
    "environment = Environment(loader=FileSystemLoader('./'))\n",
    "template = environment.get_template(\"index.html.jinja\")"
   ]
  },
  {
   "cell_type": "code",
   "execution_count": 29,
   "id": "985b5027-6623-472e-90dd-1defe9ffbafe",
   "metadata": {},
   "outputs": [],
   "source": [
    "with open('index.html', 'w', encoding='utf8') as out:\n",
    "    out.write(template.render(\n",
    "        recordings=recordings\n",
    "    ))"
   ]
  },
  {
   "cell_type": "code",
   "execution_count": null,
   "id": "d29e8e1e-65cc-414f-b5f8-966eabede88e",
   "metadata": {},
   "outputs": [],
   "source": []
  }
 ],
 "metadata": {
  "kernelspec": {
   "display_name": "sandbox",
   "language": "python",
   "name": "sandbox"
  },
  "language_info": {
   "codemirror_mode": {
    "name": "ipython",
    "version": 3
   },
   "file_extension": ".py",
   "mimetype": "text/x-python",
   "name": "python",
   "nbconvert_exporter": "python",
   "pygments_lexer": "ipython3",
   "version": "3.9.7"
  }
 },
 "nbformat": 4,
 "nbformat_minor": 5
}
